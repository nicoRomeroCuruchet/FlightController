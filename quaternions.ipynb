{
  "nbformat": 4,
  "nbformat_minor": 0,
  "metadata": {
    "colab": {
      "provenance": [],
      "authorship_tag": "ABX9TyNJyjBc8orqZLNHoqQpfIhd",
      "include_colab_link": true
    },
    "kernelspec": {
      "name": "python3",
      "display_name": "Python 3"
    },
    "language_info": {
      "name": "python"
    }
  },
  "cells": [
    {
      "cell_type": "markdown",
      "metadata": {
        "id": "view-in-github",
        "colab_type": "text"
      },
      "source": [
        "<a href=\"https://colab.research.google.com/github/nicoRomeroCuruchet/FlightController/blob/main/quaternions.ipynb\" target=\"_parent\"><img src=\"https://colab.research.google.com/assets/colab-badge.svg\" alt=\"Open In Colab\"/></a>"
      ]
    },
    {
      "cell_type": "code",
      "source": [
        "# prompt: Print in latex and use phi theta and psi\n",
        "from sympy.physics.mechanics import ReferenceFrame\n",
        "from sympy import simplify, trigsimp,symbols, cos, sin, Matrix, pi, Quaternion\n",
        "\n",
        "phi, theta, psi, phi_dot, theta_dot, psi_dot = symbols('phi theta psi phi_dot theta_dot psi_dot')\n",
        "\n",
        "# The rotation matrices to transform vector from world frame to body frame:\n",
        "Rx = Matrix([[1, 0,        0       ],\n",
        "            [0,  cos(phi), sin(phi)],\n",
        "            [0,  -sin(phi), cos(phi)]])\n",
        "\n",
        "Ry = Matrix([[cos(theta),  0, -sin(theta) ],\n",
        "             [0,           1, 0          ],\n",
        "             [sin(theta), 0,  cos(theta)]])\n",
        "\n",
        "Rz = Matrix([[cos(psi),  sin(psi), 0],\n",
        "             [-sin(psi), cos(psi), 0],\n",
        "             [0,         0,        1]])\n",
        "\n",
        "Rotation_matrix = Rx * Ry * Rz\n",
        "from sympy.printing.latex import LatexPrinter\n",
        "lp = LatexPrinter()\n",
        "print(\"$\"+lp.doprint(Rotation_matrix)+\"$\")"
      ],
      "metadata": {
        "id": "nS7r-K3MkbeJ"
      },
      "execution_count": null,
      "outputs": []
    },
    {
      "cell_type": "markdown",
      "source": [
        "Transform vector from the frame of the world to the frame of the body:\n",
        "\n",
        "$T^{b}_{w} = \\left[\\begin{matrix}\\cos{\\left(\\psi \\right)} \\cos{\\left(\\theta \\right)} & \\sin{\\left(\\psi \\right)} \\cos{\\left(\\theta \\right)} & - \\sin{\\left(\\theta \\right)}\\\\\\sin{\\left(\\phi \\right)} \\sin{\\left(\\theta \\right)} \\cos{\\left(\\psi \\right)} - \\sin{\\left(\\psi \\right)} \\cos{\\left(\\phi \\right)} & \\sin{\\left(\\phi \\right)} \\sin{\\left(\\psi \\right)} \\sin{\\left(\\theta \\right)} + \\cos{\\left(\\phi \\right)} \\cos{\\left(\\psi \\right)} & \\sin{\\left(\\phi \\right)} \\cos{\\left(\\theta \\right)}\\\\\\sin{\\left(\\phi \\right)} \\sin{\\left(\\psi \\right)} + \\sin{\\left(\\theta \\right)} \\cos{\\left(\\phi \\right)} \\cos{\\left(\\psi \\right)} & - \\sin{\\left(\\phi \\right)} \\cos{\\left(\\psi \\right)} + \\sin{\\left(\\psi \\right)} \\sin{\\left(\\theta \\right)} \\cos{\\left(\\phi \\right)} & \\cos{\\left(\\phi \\right)} \\cos{\\left(\\theta \\right)}\\end{matrix}\\right]$\n"
      ],
      "metadata": {
        "id": "DQrfgy6Ar_5G"
      }
    },
    {
      "cell_type": "code",
      "source": [
        "print(\"$\"+lp.doprint(Rotation_matrix.T)+\"$\")"
      ],
      "metadata": {
        "collapsed": true,
        "id": "KJdG3tsX7S-8"
      },
      "execution_count": null,
      "outputs": []
    },
    {
      "cell_type": "markdown",
      "source": [
        "Transform vector from the body frame to the frame of the world:\n",
        "\n",
        "$T^{w}_{b} = \\left[\\begin{matrix}\\cos{\\left(\\psi \\right)} \\cos{\\left(\\theta \\right)} & \\sin{\\left(\\phi \\right)} \\sin{\\left(\\theta \\right)} \\cos{\\left(\\psi \\right)} - \\sin{\\left(\\psi \\right)} \\cos{\\left(\\phi \\right)} & \\sin{\\left(\\phi \\right)} \\sin{\\left(\\psi \\right)} + \\sin{\\left(\\theta \\right)} \\cos{\\left(\\phi \\right)} \\cos{\\left(\\psi \\right)}\\\\\\sin{\\left(\\psi \\right)} \\cos{\\left(\\theta \\right)} & \\sin{\\left(\\phi \\right)} \\sin{\\left(\\psi \\right)} \\sin{\\left(\\theta \\right)} + \\cos{\\left(\\phi \\right)} \\cos{\\left(\\psi \\right)} & - \\sin{\\left(\\phi \\right)} \\cos{\\left(\\psi \\right)} + \\sin{\\left(\\psi \\right)} \\sin{\\left(\\theta \\right)} \\cos{\\left(\\phi \\right)}\\\\- \\sin{\\left(\\theta \\right)} & \\sin{\\left(\\phi \\right)} \\cos{\\left(\\theta \\right)} & \\cos{\\left(\\phi \\right)} \\cos{\\left(\\theta \\right)}\\end{matrix}\\right]$\n"
      ],
      "metadata": {
        "id": "wTc0r8vJ7ad2"
      }
    },
    {
      "cell_type": "code",
      "source": [
        "# Define the symbols\n",
        "q0, q1, q2, q3 = symbols('q0 q1 q2 q3')\n",
        "\n",
        "# Define the quaternion\n",
        "q_x = Quaternion(cos(phi/2), sin(phi/2), 0, 0)\n",
        "q_y = Quaternion(cos(theta/2), 0, sin(theta/2), 0)\n",
        "q_z = Quaternion(cos(psi/2), 0, 0, sin(psi/2))\n",
        "\n",
        "# Define the rotation matrix\n",
        "Q = q_z * q_y * q_x\n",
        "Q_conj = Q.conjugate()"
      ],
      "metadata": {
        "id": "DRnUSTR7ojns"
      },
      "execution_count": null,
      "outputs": []
    },
    {
      "cell_type": "code",
      "source": [
        "qw = Q.a\n",
        "qx = Q.b\n",
        "qy = Q.c\n",
        "qz = Q.d"
      ],
      "metadata": {
        "id": "FIii6d8DWowf"
      },
      "execution_count": null,
      "outputs": []
    },
    {
      "cell_type": "code",
      "source": [
        "# Roll angle (phi)\n",
        "simplify((qw * qx +  qy * qz) /  (0.5 - (qx * qx + qy * qy)))"
      ],
      "metadata": {
        "colab": {
          "base_uri": "https://localhost:8080/",
          "height": 38
        },
        "id": "-Wm--r0efuPt",
        "outputId": "8af1637f-718f-4105-9be5-aad6a05a0590"
      },
      "execution_count": null,
      "outputs": [
        {
          "output_type": "execute_result",
          "data": {
            "text/plain": [
              "1.0*tan(phi)"
            ],
            "text/latex": "$\\displaystyle 1.0 \\tan{\\left(\\phi \\right)}$"
          },
          "metadata": {},
          "execution_count": 139
        }
      ]
    },
    {
      "cell_type": "code",
      "source": [
        "# Pitch angle (theta)\n",
        "simplify(2  * (qw * qy - qz * qx ))"
      ],
      "metadata": {
        "colab": {
          "base_uri": "https://localhost:8080/",
          "height": 38
        },
        "id": "pyWX2r-ifepY",
        "outputId": "f30004da-b2c5-4dd2-df19-f87e7c0825bd"
      },
      "execution_count": null,
      "outputs": [
        {
          "output_type": "execute_result",
          "data": {
            "text/plain": [
              "sin(theta)"
            ],
            "text/latex": "$\\displaystyle \\sin{\\left(\\theta \\right)}$"
          },
          "metadata": {},
          "execution_count": 140
        }
      ]
    },
    {
      "cell_type": "code",
      "source": [
        "# Yaw angle (psi)\n",
        "simplify((qw * qz +  qx * qy) /  (0.5 - (qy * qy + qz * qz)))"
      ],
      "metadata": {
        "colab": {
          "base_uri": "https://localhost:8080/",
          "height": 38
        },
        "id": "0tGF2R8ugFtO",
        "outputId": "07e1aa23-f66d-43cb-dcf1-db1a00ba9b89"
      },
      "execution_count": null,
      "outputs": [
        {
          "output_type": "execute_result",
          "data": {
            "text/plain": [
              "1.0*tan(psi)"
            ],
            "text/latex": "$\\displaystyle 1.0 \\tan{\\left(\\psi \\right)}$"
          },
          "metadata": {},
          "execution_count": 141
        }
      ]
    },
    {
      "cell_type": "code",
      "source": [
        "# https://en.wikipedia.org/wiki/Conversion_between_quaternions_and_Euler_angles\n",
        "\n",
        "R11 = simplify(trigsimp(1 - 2*qy**2 - 2*qz**2))\n",
        "R12 = simplify(trigsimp(2*qx*qy - 2*qz*qw))\n",
        "R13 = simplify(trigsimp(2*qx*qz + 2*qy*qw))\n",
        "\n",
        "R21 = simplify(trigsimp(2*qx*qy + 2*qz*qw))\n",
        "R22 = simplify(trigsimp(1 - 2*qx**2 - 2*qz**2))\n",
        "R23 = simplify(trigsimp(2*qy*qz - 2*qx*qw))\n",
        "\n",
        "R31 = simplify(trigsimp(2*qx*qz - 2*qy*qw))\n",
        "R32 = simplify(trigsimp(2*qy*qz + 2*qx*qw))\n",
        "R33 = simplify(trigsimp(1 - 2*qx**2 - 2*qy**2))\n",
        "\n",
        "Matrix([[R11, R12, R13], [R21, R22, R23], [R31, R32, R33]])"
      ],
      "metadata": {
        "id": "0GL4G1KHXZCN",
        "colab": {
          "base_uri": "https://localhost:8080/",
          "height": 78
        },
        "outputId": "b6825572-0038-4670-c6e9-ebafe52b33ef"
      },
      "execution_count": null,
      "outputs": [
        {
          "output_type": "execute_result",
          "data": {
            "text/plain": [
              "Matrix([\n",
              "[cos(psi)*cos(theta), sin(phi)*sin(theta)*cos(psi) - sin(psi)*cos(phi),  sin(phi)*sin(psi) + sin(theta)*cos(phi)*cos(psi)],\n",
              "[sin(psi)*cos(theta), sin(phi)*sin(psi)*sin(theta) + cos(phi)*cos(psi), -sin(phi)*cos(psi) + sin(psi)*sin(theta)*cos(phi)],\n",
              "[        -sin(theta),                              sin(phi)*cos(theta),                               cos(phi)*cos(theta)]])"
            ],
            "text/latex": "$\\displaystyle \\left[\\begin{matrix}\\cos{\\left(\\psi \\right)} \\cos{\\left(\\theta \\right)} & \\sin{\\left(\\phi \\right)} \\sin{\\left(\\theta \\right)} \\cos{\\left(\\psi \\right)} - \\sin{\\left(\\psi \\right)} \\cos{\\left(\\phi \\right)} & \\sin{\\left(\\phi \\right)} \\sin{\\left(\\psi \\right)} + \\sin{\\left(\\theta \\right)} \\cos{\\left(\\phi \\right)} \\cos{\\left(\\psi \\right)}\\\\\\sin{\\left(\\psi \\right)} \\cos{\\left(\\theta \\right)} & \\sin{\\left(\\phi \\right)} \\sin{\\left(\\psi \\right)} \\sin{\\left(\\theta \\right)} + \\cos{\\left(\\phi \\right)} \\cos{\\left(\\psi \\right)} & - \\sin{\\left(\\phi \\right)} \\cos{\\left(\\psi \\right)} + \\sin{\\left(\\psi \\right)} \\sin{\\left(\\theta \\right)} \\cos{\\left(\\phi \\right)}\\\\- \\sin{\\left(\\theta \\right)} & \\sin{\\left(\\phi \\right)} \\cos{\\left(\\theta \\right)} & \\cos{\\left(\\phi \\right)} \\cos{\\left(\\theta \\right)}\\end{matrix}\\right]$"
          },
          "metadata": {},
          "execution_count": 142
        }
      ]
    },
    {
      "cell_type": "code",
      "source": [],
      "metadata": {
        "colab": {
          "base_uri": "https://localhost:8080/",
          "height": 78
        },
        "id": "KL59nowMcx8L",
        "outputId": "ad2d2bef-f534-4b4b-eb35-40ad742553c8"
      },
      "execution_count": null,
      "outputs": [
        {
          "output_type": "execute_result",
          "data": {
            "text/plain": [
              "Matrix([\n",
              "[                      phi_dot - psi_dot*sin(theta)],\n",
              "[psi_dot*sin(phi)*cos(theta) + theta_dot*cos(theta)],\n",
              "[  psi_dot*cos(phi)*cos(theta) - theta_dot*sin(phi)]])"
            ],
            "text/latex": "$\\displaystyle \\left[\\begin{matrix}\\phi_{dot} - \\psi_{dot} \\sin{\\left(\\theta \\right)}\\\\\\psi_{dot} \\sin{\\left(\\phi \\right)} \\cos{\\left(\\theta \\right)} + \\theta_{dot} \\cos{\\left(\\theta \\right)}\\\\\\psi_{dot} \\cos{\\left(\\phi \\right)} \\cos{\\left(\\theta \\right)} - \\theta_{dot} \\sin{\\left(\\phi \\right)}\\end{matrix}\\right]$"
          },
          "metadata": {},
          "execution_count": 118
        }
      ]
    },
    {
      "cell_type": "code",
      "source": [
        "Wx, Wy, Wz = symbols('Wx Wy Wz')\n",
        "v = Quaternion(0, 0, 0, Wz)\n",
        "res_quat = Q * v * Q_conj"
      ],
      "metadata": {
        "id": "OzzPfEH_dfUG"
      },
      "execution_count": null,
      "outputs": []
    },
    {
      "cell_type": "code",
      "source": [
        "simplify(trigsimp(res_quat.b))"
      ],
      "metadata": {
        "colab": {
          "base_uri": "https://localhost:8080/",
          "height": 38
        },
        "id": "34pbNYnsAbsA",
        "outputId": "c7a6728f-0bd5-4776-c708-d1b3f8f56724"
      },
      "execution_count": null,
      "outputs": [
        {
          "output_type": "execute_result",
          "data": {
            "text/plain": [
              "Wz*(sin(phi)*sin(psi) + sin(theta)*cos(phi)*cos(psi))"
            ],
            "text/latex": "$\\displaystyle Wz \\left(\\sin{\\left(\\phi \\right)} \\sin{\\left(\\psi \\right)} + \\sin{\\left(\\theta \\right)} \\cos{\\left(\\phi \\right)} \\cos{\\left(\\psi \\right)}\\right)$"
          },
          "metadata": {},
          "execution_count": 159
        }
      ]
    },
    {
      "cell_type": "code",
      "source": [
        "simplify(trigsimp(res_quat.c))"
      ],
      "metadata": {
        "colab": {
          "base_uri": "https://localhost:8080/",
          "height": 38
        },
        "id": "K7OOQIEsAIFp",
        "outputId": "bf058682-c5eb-4a9d-b691-c27764f0d334"
      },
      "execution_count": null,
      "outputs": [
        {
          "output_type": "execute_result",
          "data": {
            "text/plain": [
              "Wx*sin(psi)*cos(theta) + Wy*sin(phi)*sin(psi)*sin(theta) + Wy*cos(phi)*cos(psi) - Wz*sin(phi)*cos(psi) + Wz*sin(psi)*sin(theta)*cos(phi)"
            ],
            "text/latex": "$\\displaystyle Wx \\sin{\\left(\\psi \\right)} \\cos{\\left(\\theta \\right)} + Wy \\sin{\\left(\\phi \\right)} \\sin{\\left(\\psi \\right)} \\sin{\\left(\\theta \\right)} + Wy \\cos{\\left(\\phi \\right)} \\cos{\\left(\\psi \\right)} - Wz \\sin{\\left(\\phi \\right)} \\cos{\\left(\\psi \\right)} + Wz \\sin{\\left(\\psi \\right)} \\sin{\\left(\\theta \\right)} \\cos{\\left(\\phi \\right)}$"
          },
          "metadata": {},
          "execution_count": 149
        }
      ]
    },
    {
      "cell_type": "code",
      "source": [
        "simplify(trigsimp(res_quat.d))"
      ],
      "metadata": {
        "colab": {
          "base_uri": "https://localhost:8080/",
          "height": 38
        },
        "id": "COgA1YPgAKNT",
        "outputId": "6c50b9fc-ce43-411a-c41a-79146f7d7eaf"
      },
      "execution_count": null,
      "outputs": [
        {
          "output_type": "execute_result",
          "data": {
            "text/plain": [
              "-Wx*sin(theta) + Wy*sin(phi)*cos(theta) + Wz*cos(phi)*cos(theta)"
            ],
            "text/latex": "$\\displaystyle - Wx \\sin{\\left(\\theta \\right)} + Wy \\sin{\\left(\\phi \\right)} \\cos{\\left(\\theta \\right)} + Wz \\cos{\\left(\\phi \\right)} \\cos{\\left(\\theta \\right)}$"
          },
          "metadata": {},
          "execution_count": 150
        }
      ]
    },
    {
      "cell_type": "code",
      "source": [
        "Rotation_matrix.T*Matrix([[0], [0], [Wz]])"
      ],
      "metadata": {
        "colab": {
          "base_uri": "https://localhost:8080/",
          "height": 78
        },
        "id": "VQ87XHEa8ZGI",
        "outputId": "e895de5e-b122-4a2c-d6a3-a5ec89301a23"
      },
      "execution_count": null,
      "outputs": [
        {
          "output_type": "execute_result",
          "data": {
            "text/plain": [
              "Matrix([\n",
              "[ Wz*(sin(phi)*sin(psi) + sin(theta)*cos(phi)*cos(psi))],\n",
              "[Wz*(-sin(phi)*cos(psi) + sin(psi)*sin(theta)*cos(phi))],\n",
              "[                                Wz*cos(phi)*cos(theta)]])"
            ],
            "text/latex": "$\\displaystyle \\left[\\begin{matrix}Wz \\left(\\sin{\\left(\\phi \\right)} \\sin{\\left(\\psi \\right)} + \\sin{\\left(\\theta \\right)} \\cos{\\left(\\phi \\right)} \\cos{\\left(\\psi \\right)}\\right)\\\\Wz \\left(- \\sin{\\left(\\phi \\right)} \\cos{\\left(\\psi \\right)} + \\sin{\\left(\\psi \\right)} \\sin{\\left(\\theta \\right)} \\cos{\\left(\\phi \\right)}\\right)\\\\Wz \\cos{\\left(\\phi \\right)} \\cos{\\left(\\theta \\right)}\\end{matrix}\\right]$"
          },
          "metadata": {},
          "execution_count": 160
        }
      ]
    },
    {
      "cell_type": "code",
      "source": [
        "import numpy as np\n",
        "\n",
        "# Numerical values\n",
        "L = 2/2\n",
        "b = 1\n",
        "d = 1\n",
        "\n",
        "# Precompute useful numbers\n",
        "half_L = L / 2.0\n",
        "sqrt3 = np.sqrt(3)\n",
        "row3_val = sqrt3 * half_L\n",
        "\n",
        "# Construct the 4x6 matrix T\n",
        "T = np.array([\n",
        "    [  1,     1,      1,      1,      1,      1     ],\n",
        "    [ -L,     L,   half_L, -half_L,  half_L, -half_L],\n",
        "    [  0,     0, row3_val, -row3_val, row3_val, -row3_val],\n",
        "    [ -d/b,  d/b,   -d/b,    d/b,   -d/b,    d/b   ]\n",
        "])\n",
        "\n",
        "print(\"Matrix T:\")\n",
        "print(T)\n",
        "\n",
        "# Calculate the Moore–Penrose pseudoinverse of T\n",
        "T_pinv = np.linalg.pinv(T)\n",
        "\n",
        "print(\"\\nMoore–Penrose pseudoinverse of T:\")\n",
        "print(T_pinv/ 0.166666666666667)\n"
      ],
      "metadata": {
        "id": "vtUiNSdlBNN2",
        "outputId": "79168372-cbf3-4420-c1aa-cad60450a3bf",
        "colab": {
          "base_uri": "https://localhost:8080/"
        }
      },
      "execution_count": null,
      "outputs": [
        {
          "output_type": "stream",
          "name": "stdout",
          "text": [
            "Matrix T:\n",
            "[[ 1.         1.         1.         1.         1.         1.       ]\n",
            " [-1.         1.         0.5       -0.5        0.5       -0.5      ]\n",
            " [ 0.         0.         0.8660254 -0.8660254  0.8660254 -0.8660254]\n",
            " [-1.         1.        -1.         1.        -1.         1.       ]]\n",
            "\n",
            "Moore–Penrose pseudoinverse of T:\n",
            "[[ 1.         -1.8        -0.34641016 -1.2       ]\n",
            " [ 1.          1.8         0.34641016  1.2       ]\n",
            " [ 1.          0.6         0.69282032 -0.6       ]\n",
            " [ 1.         -0.6        -0.69282032  0.6       ]\n",
            " [ 1.          0.6         0.69282032 -0.6       ]\n",
            " [ 1.         -0.6        -0.69282032  0.6       ]]\n"
          ]
        }
      ]
    },
    {
      "cell_type": "code",
      "source": [
        "import numpy as np\n",
        "\n",
        "# Constants\n",
        "l = 0.25\n",
        "kt = 1\n",
        "km = 0.1\n",
        "keta = km / kt\n",
        "sqrt2 = np.sqrt(2)\n",
        "\n",
        "factor = kt * l / sqrt2\n",
        "# Construct the matrix inside the big brackets\n",
        "M = factor * np.array([\n",
        "    [sqrt2/l,   sqrt2/l,    sqrt2/l,    sqrt2/l],\n",
        "    [1,        -1,         -1,         1],\n",
        "    [1,         1,         -1,        -1],\n",
        "    [-sqrt2*keta, sqrt2*keta, -sqrt2*keta, sqrt2*keta]\n",
        "])\n",
        "\n",
        "print(\"Matrix M:\")\n",
        "print(M)\n",
        "\n",
        "# Compute the pseudoinverse\n",
        "M_pinv = np.linalg.pinv(M)\n",
        "\n",
        "print(\"\\nMoore–Penrose Pseudoinverse of M:\")\n",
        "print(M_pinv/0.25)"
      ],
      "metadata": {
        "id": "LbNwE-Ij2Q_4",
        "outputId": "d3d26cd2-fb76-4dd5-b73e-b5e90cb9b900",
        "colab": {
          "base_uri": "https://localhost:8080/"
        }
      },
      "execution_count": 4,
      "outputs": [
        {
          "output_type": "stream",
          "name": "stdout",
          "text": [
            "Matrix M:\n",
            "[[ 1.         1.         1.         1.       ]\n",
            " [ 0.1767767 -0.1767767 -0.1767767  0.1767767]\n",
            " [ 0.1767767  0.1767767 -0.1767767 -0.1767767]\n",
            " [-0.025      0.025     -0.025      0.025    ]]\n",
            "\n",
            "Moore–Penrose Pseudoinverse of M:\n",
            "[[  1.           5.65685425   5.65685425 -40.        ]\n",
            " [  1.          -5.65685425   5.65685425  40.        ]\n",
            " [  1.          -5.65685425  -5.65685425 -40.        ]\n",
            " [  1.           5.65685425  -5.65685425  40.        ]]\n"
          ]
        }
      ]
    },
    {
      "cell_type": "code",
      "source": [],
      "metadata": {
        "id": "TDExVWzlqfnv"
      },
      "execution_count": null,
      "outputs": []
    }
  ]
}